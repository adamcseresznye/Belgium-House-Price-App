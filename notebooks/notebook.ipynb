{
 "cells": [
  {
   "cell_type": "code",
   "execution_count": null,
   "metadata": {},
   "outputs": [],
   "source": [
    "import json\n",
    "from pathlib import Path\n",
    "\n",
    "import numpy as np\n",
    "import pandas as pd\n",
    "import plotly.express as px\n",
    "import requests\n",
    "from pymongo import MongoClient\n",
    "from pymongoarrow.api import find_pandas_all\n",
    "\n",
    "import creds"
   ]
  },
  {
   "cell_type": "code",
   "execution_count": null,
   "metadata": {},
   "outputs": [],
   "source": [
    "cluster = MongoClient(creds.Creds.URI)\n",
    "\n",
    "query = {\"title\": \"Romance\"}\n",
    "df = find_pandas_all(cluster.test2.BE_houses, None)"
   ]
  },
  {
   "cell_type": "code",
   "execution_count": null,
   "metadata": {},
   "outputs": [],
   "source": [
    "df.isna().sum().sort_values(ascending=True).iloc[:20]"
   ]
  },
  {
   "cell_type": "code",
   "execution_count": null,
   "metadata": {},
   "outputs": [],
   "source": [
    "# data from https://www.spotzi.com/en/data-catalog/categories/postal-codes/belgium/\n",
    "\n",
    "\n",
    "def assign_province(value):\n",
    "    if value is None:\n",
    "        return None\n",
    "    first_two_digits = int(value[:2])\n",
    "    if 10 <= first_two_digits <= 12:\n",
    "        return \"Brussels\"\n",
    "    elif 13 <= first_two_digits <= 14:\n",
    "        return \"Walloon Brabant\"\n",
    "    elif (15 <= first_two_digits <= 19) or (30 <= first_two_digits <= 34):\n",
    "        return \"Flemish Brabant\"\n",
    "    elif 20 <= first_two_digits <= 29:\n",
    "        return \"Antwerp\"\n",
    "    elif 35 <= first_two_digits <= 39:\n",
    "        return \"Limburg\"\n",
    "    elif 40 <= first_two_digits <= 49:\n",
    "        return \"Liege\"\n",
    "    elif 50 <= first_two_digits <= 59:\n",
    "        return \"Namur\"\n",
    "    elif (60 <= first_two_digits <= 65) or (70 <= first_two_digits <= 79):\n",
    "        return \"Hainaut\"\n",
    "    elif 66 <= first_two_digits <= 69:\n",
    "        return \"Luxembourg\"\n",
    "    elif 80 <= first_two_digits <= 89:\n",
    "        return \"West Flanders\"\n",
    "    elif 90 <= first_two_digits <= 99:\n",
    "        return \"East Flanders\"\n",
    "    else:\n",
    "        return None"
   ]
  },
  {
   "cell_type": "code",
   "execution_count": null,
   "metadata": {},
   "outputs": [],
   "source": [
    "provinces = pd.Series([assign_province(item) for item in df.zip_code])\n",
    "\n",
    "df_province = (\n",
    "    pd.concat([df, provinces], axis=1)\n",
    "    .rename(columns={0: \"province\"})\n",
    "    .loc[:, [\"province\", \"list_price\"]]\n",
    "    .assign(list_price=lambda df: df.list_price.astype(float))\n",
    ")\n",
    "df_province"
   ]
  },
  {
   "cell_type": "code",
   "execution_count": null,
   "metadata": {},
   "outputs": [],
   "source": [
    "BE_provinces = requests.get(\n",
    "    \"https://raw.githubusercontent.com/mathiasleroy/Belgium-Geographic-Data/master/dist/polygons/be-provinces-unk-WGS84.geo.json\"\n",
    ").json()\n",
    "\n",
    "fig = px.choropleth(\n",
    "    df_province.groupby(\"province\").mean().reset_index(),\n",
    "    geojson=BE_provinces,\n",
    "    locations=\"province\",\n",
    "    color=\"list_price\",\n",
    "    featureidkey=\"properties.name\",\n",
    "    projection=\"mercator\",\n",
    "    color_continuous_scale=\"Magenta\",\n",
    "    labels={\"list_price\": \"List Price\"},\n",
    "    hover_data={\"list_price\": True, \"province\": True},\n",
    ")\n",
    "\n",
    "fig.update_geos(\n",
    "    showcountries=True, showcoastlines=True, showland=True, fitbounds=\"locations\"\n",
    ")\n",
    "\n",
    "# Add title and labels\n",
    "fig.update_layout(\n",
    "    title_text=\"Average House Prices by Province\",\n",
    "    autosize=False,\n",
    "    width=800,\n",
    "    height=600,\n",
    "    geo=dict(showframe=False, showcoastlines=False, projection_type=\"mercator\"),\n",
    ")\n",
    "\n",
    "\n",
    "fig.show()"
   ]
  },
  {
   "cell_type": "code",
   "execution_count": null,
   "metadata": {},
   "outputs": [],
   "source": []
  }
 ],
 "metadata": {
  "kernelspec": {
   "display_name": "scrapy_house",
   "language": "python",
   "name": "python3"
  },
  "language_info": {
   "codemirror_mode": {
    "name": "ipython",
    "version": 3
   },
   "file_extension": ".py",
   "mimetype": "text/x-python",
   "name": "python",
   "nbconvert_exporter": "python",
   "pygments_lexer": "ipython3",
   "version": "3.11.7"
  }
 },
 "nbformat": 4,
 "nbformat_minor": 2
}
